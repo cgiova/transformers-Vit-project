{
 "cells": [
  {
   "cell_type": "code",
   "execution_count": 2,
   "id": "initial_id",
   "metadata": {
    "collapsed": true,
    "ExecuteTime": {
     "end_time": "2024-03-21T10:23:59.664042Z",
     "start_time": "2024-03-21T10:23:46.011525Z"
    }
   },
   "outputs": [
    {
     "name": "stdout",
     "output_type": "stream",
     "text": [
      "Collecting datasets\r\n",
      "  Downloading datasets-2.18.0-py3-none-any.whl.metadata (20 kB)\r\n",
      "Collecting transformers\r\n",
      "  Downloading transformers-4.39.0-py3-none-any.whl.metadata (134 kB)\r\n",
      "\u001B[2K     \u001B[90m━━━━━━━━━━━━━━━━━━━━━━━━━━━━━━━━━━━━━━━\u001B[0m \u001B[32m134.8/134.8 kB\u001B[0m \u001B[31m4.6 MB/s\u001B[0m eta \u001B[36m0:00:00\u001B[0m\r\n",
      "\u001B[?25hCollecting filelock (from datasets)\r\n",
      "  Using cached filelock-3.13.1-py3-none-any.whl.metadata (2.8 kB)\r\n",
      "Collecting numpy>=1.17 (from datasets)\r\n",
      "  Using cached numpy-1.26.4-cp39-cp39-macosx_11_0_arm64.whl.metadata (61 kB)\r\n",
      "Collecting pyarrow>=12.0.0 (from datasets)\r\n",
      "  Downloading pyarrow-15.0.2-cp39-cp39-macosx_11_0_arm64.whl.metadata (3.0 kB)\r\n",
      "Collecting pyarrow-hotfix (from datasets)\r\n",
      "  Downloading pyarrow_hotfix-0.6-py3-none-any.whl.metadata (3.6 kB)\r\n",
      "Collecting dill<0.3.9,>=0.3.0 (from datasets)\r\n",
      "  Downloading dill-0.3.8-py3-none-any.whl.metadata (10 kB)\r\n",
      "Collecting pandas (from datasets)\r\n",
      "  Downloading pandas-2.2.1-cp39-cp39-macosx_11_0_arm64.whl.metadata (19 kB)\r\n",
      "Requirement already satisfied: requests>=2.19.0 in /Users/cgiovannoni/miniconda3/envs/transformers_env/lib/python3.9/site-packages (from datasets) (2.31.0)\r\n",
      "Collecting tqdm>=4.62.1 (from datasets)\r\n",
      "  Using cached tqdm-4.66.2-py3-none-any.whl.metadata (57 kB)\r\n",
      "Collecting xxhash (from datasets)\r\n",
      "  Using cached xxhash-3.4.1-cp39-cp39-macosx_11_0_arm64.whl.metadata (12 kB)\r\n",
      "Collecting multiprocess (from datasets)\r\n",
      "  Using cached multiprocess-0.70.16-py39-none-any.whl.metadata (7.2 kB)\r\n",
      "Collecting fsspec<=2024.2.0,>=2023.1.0 (from fsspec[http]<=2024.2.0,>=2023.1.0->datasets)\r\n",
      "  Using cached fsspec-2024.2.0-py3-none-any.whl.metadata (6.8 kB)\r\n",
      "Collecting aiohttp (from datasets)\r\n",
      "  Using cached aiohttp-3.9.3-cp39-cp39-macosx_11_0_arm64.whl.metadata (7.4 kB)\r\n",
      "Collecting huggingface-hub>=0.19.4 (from datasets)\r\n",
      "  Downloading huggingface_hub-0.21.4-py3-none-any.whl.metadata (13 kB)\r\n",
      "Requirement already satisfied: packaging in /Users/cgiovannoni/miniconda3/envs/transformers_env/lib/python3.9/site-packages (from datasets) (23.2)\r\n",
      "Requirement already satisfied: pyyaml>=5.1 in /Users/cgiovannoni/miniconda3/envs/transformers_env/lib/python3.9/site-packages (from datasets) (6.0.1)\r\n",
      "Collecting regex!=2019.12.17 (from transformers)\r\n",
      "  Downloading regex-2023.12.25-cp39-cp39-macosx_11_0_arm64.whl.metadata (40 kB)\r\n",
      "\u001B[2K     \u001B[90m━━━━━━━━━━━━━━━━━━━━━━━━━━━━━━━━━━━━━━━━\u001B[0m \u001B[32m40.9/40.9 kB\u001B[0m \u001B[31m5.5 MB/s\u001B[0m eta \u001B[36m0:00:00\u001B[0m\r\n",
      "\u001B[?25hCollecting tokenizers<0.19,>=0.14 (from transformers)\r\n",
      "  Downloading tokenizers-0.15.2-cp39-cp39-macosx_11_0_arm64.whl.metadata (6.7 kB)\r\n",
      "Collecting safetensors>=0.4.1 (from transformers)\r\n",
      "  Downloading safetensors-0.4.2-cp39-cp39-macosx_11_0_arm64.whl.metadata (3.8 kB)\r\n",
      "Collecting aiosignal>=1.1.2 (from aiohttp->datasets)\r\n",
      "  Using cached aiosignal-1.3.1-py3-none-any.whl.metadata (4.0 kB)\r\n",
      "Requirement already satisfied: attrs>=17.3.0 in /Users/cgiovannoni/miniconda3/envs/transformers_env/lib/python3.9/site-packages (from aiohttp->datasets) (23.1.0)\r\n",
      "Collecting frozenlist>=1.1.1 (from aiohttp->datasets)\r\n",
      "  Using cached frozenlist-1.4.1-cp39-cp39-macosx_11_0_arm64.whl.metadata (12 kB)\r\n",
      "Collecting multidict<7.0,>=4.5 (from aiohttp->datasets)\r\n",
      "  Using cached multidict-6.0.5-cp39-cp39-macosx_11_0_arm64.whl.metadata (4.2 kB)\r\n",
      "Collecting yarl<2.0,>=1.0 (from aiohttp->datasets)\r\n",
      "  Using cached yarl-1.9.4-cp39-cp39-macosx_11_0_arm64.whl.metadata (31 kB)\r\n",
      "Collecting async-timeout<5.0,>=4.0 (from aiohttp->datasets)\r\n",
      "  Using cached async_timeout-4.0.3-py3-none-any.whl.metadata (4.2 kB)\r\n",
      "Requirement already satisfied: typing-extensions>=3.7.4.3 in /Users/cgiovannoni/miniconda3/envs/transformers_env/lib/python3.9/site-packages (from huggingface-hub>=0.19.4->datasets) (4.9.0)\r\n",
      "Requirement already satisfied: charset-normalizer<4,>=2 in /Users/cgiovannoni/miniconda3/envs/transformers_env/lib/python3.9/site-packages (from requests>=2.19.0->datasets) (2.0.4)\r\n",
      "Requirement already satisfied: idna<4,>=2.5 in /Users/cgiovannoni/miniconda3/envs/transformers_env/lib/python3.9/site-packages (from requests>=2.19.0->datasets) (3.4)\r\n",
      "Requirement already satisfied: urllib3<3,>=1.21.1 in /Users/cgiovannoni/miniconda3/envs/transformers_env/lib/python3.9/site-packages (from requests>=2.19.0->datasets) (2.1.0)\r\n",
      "Requirement already satisfied: certifi>=2017.4.17 in /Users/cgiovannoni/miniconda3/envs/transformers_env/lib/python3.9/site-packages (from requests>=2.19.0->datasets) (2024.2.2)\r\n",
      "Requirement already satisfied: python-dateutil>=2.8.2 in /Users/cgiovannoni/miniconda3/envs/transformers_env/lib/python3.9/site-packages (from pandas->datasets) (2.8.2)\r\n",
      "Requirement already satisfied: pytz>=2020.1 in /Users/cgiovannoni/miniconda3/envs/transformers_env/lib/python3.9/site-packages (from pandas->datasets) (2023.3.post1)\r\n",
      "Collecting tzdata>=2022.7 (from pandas->datasets)\r\n",
      "  Using cached tzdata-2024.1-py2.py3-none-any.whl.metadata (1.4 kB)\r\n",
      "Requirement already satisfied: six>=1.5 in /Users/cgiovannoni/miniconda3/envs/transformers_env/lib/python3.9/site-packages (from python-dateutil>=2.8.2->pandas->datasets) (1.16.0)\r\n",
      "Downloading datasets-2.18.0-py3-none-any.whl (510 kB)\r\n",
      "\u001B[2K   \u001B[90m━━━━━━━━━━━━━━━━━━━━━━━━━━━━━━━━━━━━━━━━\u001B[0m \u001B[32m510.5/510.5 kB\u001B[0m \u001B[31m13.0 MB/s\u001B[0m eta \u001B[36m0:00:00\u001B[0m00:01\u001B[0m\r\n",
      "\u001B[?25hDownloading transformers-4.39.0-py3-none-any.whl (8.8 MB)\r\n",
      "\u001B[2K   \u001B[90m━━━━━━━━━━━━━━━━━━━━━━━━━━━━━━━━━━━━━━━━\u001B[0m \u001B[32m8.8/8.8 MB\u001B[0m \u001B[31m29.6 MB/s\u001B[0m eta \u001B[36m0:00:00\u001B[0ma \u001B[36m0:00:01\u001B[0m\r\n",
      "\u001B[?25hDownloading dill-0.3.8-py3-none-any.whl (116 kB)\r\n",
      "\u001B[2K   \u001B[90m━━━━━━━━━━━━━━━━━━━━━━━━━━━━━━━━━━━━━━━━\u001B[0m \u001B[32m116.3/116.3 kB\u001B[0m \u001B[31m11.9 MB/s\u001B[0m eta \u001B[36m0:00:00\u001B[0m\r\n",
      "\u001B[?25hUsing cached fsspec-2024.2.0-py3-none-any.whl (170 kB)\r\n",
      "Using cached aiohttp-3.9.3-cp39-cp39-macosx_11_0_arm64.whl (388 kB)\r\n",
      "Downloading huggingface_hub-0.21.4-py3-none-any.whl (346 kB)\r\n",
      "\u001B[2K   \u001B[90m━━━━━━━━━━━━━━━━━━━━━━━━━━━━━━━━━━━━━━━━\u001B[0m \u001B[32m346.4/346.4 kB\u001B[0m \u001B[31m14.2 MB/s\u001B[0m eta \u001B[36m0:00:00\u001B[0m\r\n",
      "\u001B[?25hUsing cached numpy-1.26.4-cp39-cp39-macosx_11_0_arm64.whl (14.0 MB)\r\n",
      "Downloading pyarrow-15.0.2-cp39-cp39-macosx_11_0_arm64.whl (24.2 MB)\r\n",
      "\u001B[2K   \u001B[90m━━━━━━━━━━━━━━━━━━━━━━━━━━━━━━━━━━━━━━━━\u001B[0m \u001B[32m24.2/24.2 MB\u001B[0m \u001B[31m36.2 MB/s\u001B[0m eta \u001B[36m0:00:00\u001B[0m00:01\u001B[0m00:01\u001B[0m\r\n",
      "\u001B[?25hDownloading regex-2023.12.25-cp39-cp39-macosx_11_0_arm64.whl (291 kB)\r\n",
      "\u001B[2K   \u001B[90m━━━━━━━━━━━━━━━━━━━━━━━━━━━━━━━━━━━━━━━━\u001B[0m \u001B[32m291.0/291.0 kB\u001B[0m \u001B[31m27.6 MB/s\u001B[0m eta \u001B[36m0:00:00\u001B[0m\r\n",
      "\u001B[?25hDownloading safetensors-0.4.2-cp39-cp39-macosx_11_0_arm64.whl (394 kB)\r\n",
      "\u001B[2K   \u001B[90m━━━━━━━━━━━━━━━━━━━━━━━━━━━━━━━━━━━━━━━━\u001B[0m \u001B[32m394.9/394.9 kB\u001B[0m \u001B[31m35.5 MB/s\u001B[0m eta \u001B[36m0:00:00\u001B[0m\r\n",
      "\u001B[?25hDownloading tokenizers-0.15.2-cp39-cp39-macosx_11_0_arm64.whl (2.4 MB)\r\n",
      "\u001B[2K   \u001B[90m━━━━━━━━━━━━━━━━━━━━━━━━━━━━━━━━━━━━━━━━\u001B[0m \u001B[32m2.4/2.4 MB\u001B[0m \u001B[31m35.6 MB/s\u001B[0m eta \u001B[36m0:00:00\u001B[0ma \u001B[36m0:00:01\u001B[0m\r\n",
      "\u001B[?25hUsing cached tqdm-4.66.2-py3-none-any.whl (78 kB)\r\n",
      "Using cached filelock-3.13.1-py3-none-any.whl (11 kB)\r\n",
      "Downloading multiprocess-0.70.16-py39-none-any.whl (133 kB)\r\n",
      "\u001B[2K   \u001B[90m━━━━━━━━━━━━━━━━━━━━━━━━━━━━━━━━━━━━━━━━\u001B[0m \u001B[32m133.4/133.4 kB\u001B[0m \u001B[31m20.3 MB/s\u001B[0m eta \u001B[36m0:00:00\u001B[0m\r\n",
      "\u001B[?25hDownloading pandas-2.2.1-cp39-cp39-macosx_11_0_arm64.whl (11.3 MB)\r\n",
      "\u001B[2K   \u001B[90m━━━━━━━━━━━━━━━━━━━━━━━━━━━━━━━━━━━━━━━━\u001B[0m \u001B[32m11.3/11.3 MB\u001B[0m \u001B[31m38.6 MB/s\u001B[0m eta \u001B[36m0:00:00\u001B[0ma \u001B[36m0:00:01\u001B[0m\r\n",
      "\u001B[?25hDownloading pyarrow_hotfix-0.6-py3-none-any.whl (7.9 kB)\r\n",
      "Using cached xxhash-3.4.1-cp39-cp39-macosx_11_0_arm64.whl (30 kB)\r\n",
      "Using cached aiosignal-1.3.1-py3-none-any.whl (7.6 kB)\r\n",
      "Using cached async_timeout-4.0.3-py3-none-any.whl (5.7 kB)\r\n",
      "Using cached frozenlist-1.4.1-cp39-cp39-macosx_11_0_arm64.whl (53 kB)\r\n",
      "Using cached multidict-6.0.5-cp39-cp39-macosx_11_0_arm64.whl (30 kB)\r\n",
      "Using cached tzdata-2024.1-py2.py3-none-any.whl (345 kB)\r\n",
      "Using cached yarl-1.9.4-cp39-cp39-macosx_11_0_arm64.whl (81 kB)\r\n",
      "Installing collected packages: xxhash, tzdata, tqdm, safetensors, regex, pyarrow-hotfix, numpy, multidict, fsspec, frozenlist, filelock, dill, async-timeout, yarl, pyarrow, pandas, multiprocess, huggingface-hub, aiosignal, tokenizers, aiohttp, transformers, datasets\r\n",
      "Successfully installed aiohttp-3.9.3 aiosignal-1.3.1 async-timeout-4.0.3 datasets-2.18.0 dill-0.3.8 filelock-3.13.1 frozenlist-1.4.1 fsspec-2024.2.0 huggingface-hub-0.21.4 multidict-6.0.5 multiprocess-0.70.16 numpy-1.26.4 pandas-2.2.1 pyarrow-15.0.2 pyarrow-hotfix-0.6 regex-2023.12.25 safetensors-0.4.2 tokenizers-0.15.2 tqdm-4.66.2 transformers-4.39.0 tzdata-2024.1 xxhash-3.4.1 yarl-1.9.4\r\n",
      "Note: you may need to restart the kernel to use updated packages.\n"
     ]
    }
   ],
   "source": [
    "%pip install datasets transformers"
   ]
  },
  {
   "cell_type": "code",
   "outputs": [
    {
     "data": {
      "text/plain": "Downloading readme:   0%|          | 0.00/4.95k [00:00<?, ?B/s]",
      "application/vnd.jupyter.widget-view+json": {
       "version_major": 2,
       "version_minor": 0,
       "model_id": "0cbbdb41e45e412683d99ce5fbba3140"
      }
     },
     "metadata": {},
     "output_type": "display_data"
    },
    {
     "name": "stderr",
     "output_type": "stream",
     "text": [
      "Downloading data: 100%|██████████| 144M/144M [00:17<00:00, 8.05MB/s] \n",
      "Downloading data: 100%|██████████| 18.5M/18.5M [00:04<00:00, 4.25MB/s]\n",
      "Downloading data: 100%|██████████| 17.7M/17.7M [00:02<00:00, 6.08MB/s]\n"
     ]
    },
    {
     "data": {
      "text/plain": "Generating train split:   0%|          | 0/1034 [00:00<?, ? examples/s]",
      "application/vnd.jupyter.widget-view+json": {
       "version_major": 2,
       "version_minor": 0,
       "model_id": "f5a7868a10e746ffb320731bda6b8680"
      }
     },
     "metadata": {},
     "output_type": "display_data"
    },
    {
     "data": {
      "text/plain": "Generating validation split:   0%|          | 0/133 [00:00<?, ? examples/s]",
      "application/vnd.jupyter.widget-view+json": {
       "version_major": 2,
       "version_minor": 0,
       "model_id": "31948bf468ae4b2484337646a353f53e"
      }
     },
     "metadata": {},
     "output_type": "display_data"
    },
    {
     "data": {
      "text/plain": "Generating test split:   0%|          | 0/128 [00:00<?, ? examples/s]",
      "application/vnd.jupyter.widget-view+json": {
       "version_major": 2,
       "version_minor": 0,
       "model_id": "0e861e5c5d834e6d91347a3849052839"
      }
     },
     "metadata": {},
     "output_type": "display_data"
    },
    {
     "data": {
      "text/plain": "DatasetDict({\n    train: Dataset({\n        features: ['image_file_path', 'image', 'labels'],\n        num_rows: 1034\n    })\n    validation: Dataset({\n        features: ['image_file_path', 'image', 'labels'],\n        num_rows: 133\n    })\n    test: Dataset({\n        features: ['image_file_path', 'image', 'labels'],\n        num_rows: 128\n    })\n})"
     },
     "execution_count": 3,
     "metadata": {},
     "output_type": "execute_result"
    }
   ],
   "source": [
    "from datasets import load_dataset\n",
    "\n",
    "data = load_dataset('beans')\n",
    "data"
   ],
   "metadata": {
    "collapsed": false,
    "ExecuteTime": {
     "end_time": "2024-03-21T10:27:08.205162Z",
     "start_time": "2024-03-21T10:26:16.140210Z"
    }
   },
   "id": "b4267137e5029b61",
   "execution_count": 3
  },
  {
   "cell_type": "code",
   "outputs": [
    {
     "name": "stdout",
     "output_type": "stream",
     "text": [
      "{'train': [{'filename': '/Users/cgiovannoni/.cache/huggingface/datasets/beans/default/0.0.0/27aa014ce09b193e1a6f58112d4a66e0eddb69c5/beans-train.arrow'}], 'validation': [{'filename': '/Users/cgiovannoni/.cache/huggingface/datasets/beans/default/0.0.0/27aa014ce09b193e1a6f58112d4a66e0eddb69c5/beans-validation.arrow'}], 'test': [{'filename': '/Users/cgiovannoni/.cache/huggingface/datasets/beans/default/0.0.0/27aa014ce09b193e1a6f58112d4a66e0eddb69c5/beans-test.arrow'}]}\n"
     ]
    }
   ],
   "source": [
    "print(data.cache_files)"
   ],
   "metadata": {
    "collapsed": false,
    "ExecuteTime": {
     "end_time": "2024-03-21T10:31:04.502133Z",
     "start_time": "2024-03-21T10:31:04.494846Z"
    }
   },
   "id": "2205f458841912d9",
   "execution_count": 4
  },
  {
   "cell_type": "code",
   "outputs": [],
   "source": [],
   "metadata": {
    "collapsed": false
   },
   "id": "be4551cb2465e412"
  }
 ],
 "metadata": {
  "kernelspec": {
   "display_name": "Python 3",
   "language": "python",
   "name": "python3"
  },
  "language_info": {
   "codemirror_mode": {
    "name": "ipython",
    "version": 2
   },
   "file_extension": ".py",
   "mimetype": "text/x-python",
   "name": "python",
   "nbconvert_exporter": "python",
   "pygments_lexer": "ipython2",
   "version": "2.7.6"
  }
 },
 "nbformat": 4,
 "nbformat_minor": 5
}
